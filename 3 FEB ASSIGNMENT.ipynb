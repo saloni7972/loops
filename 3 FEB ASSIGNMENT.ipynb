{
 "cells": [
  {
   "cell_type": "markdown",
   "id": "2d81ae2c-352a-4aea-89cc-e0b86b3fb260",
   "metadata": {},
   "source": [
    "FEB 3 ASSIGNMENT"
   ]
  },
  {
   "cell_type": "markdown",
   "id": "abe05751-4b26-4d32-81e4-10f8bfc53c5e",
   "metadata": {},
   "source": [
    "Q.1 Which key wword is used to creat a function. Creat a function to return a list of odd number in the range of 1 to 25"
   ]
  },
  {
   "cell_type": "markdown",
   "id": "ca7f610d-d448-491c-b69f-c52d50a6cadb",
   "metadata": {},
   "source": [
    "The def keyword is used to creat a function.\n",
    "odd number in the range of 1 to 25\n"
   ]
  },
  {
   "cell_type": "code",
   "execution_count": 3,
   "id": "48c3eb45-e187-47b5-afc7-410602c6c8c9",
   "metadata": {},
   "outputs": [],
   "source": [
    "start=1\n",
    "end=25"
   ]
  },
  {
   "cell_type": "code",
   "execution_count": 4,
   "id": "191987dc-5afd-40d8-bcf4-ff6875da0e78",
   "metadata": {},
   "outputs": [
    {
     "name": "stdout",
     "output_type": "stream",
     "text": [
      "1 3 5 7 9 11 13 15 17 19 21 23 25 "
     ]
    }
   ],
   "source": [
    "for i in range (start,end+1) :\n",
    "    if i%2!=0:\n",
    "        print(i,end=\" \")"
   ]
  },
  {
   "cell_type": "markdown",
   "id": "3c8b664f-9e4d-429f-af54-7c7bcbdfb972",
   "metadata": {},
   "source": [
    "Q.2 why *args and **kwargs used in function? Creat a function of each of *args & **kwargs to demonstrate their use"
   ]
  },
  {
   "cell_type": "markdown",
   "id": "3f8cbe67-5807-402e-b24d-a9cdfe6a0eed",
   "metadata": {},
   "source": [
    "ANSWER==*args & **kwargs used in a function when you are unsure about the number of arguments to pass in the function.\n",
    "eg."
   ]
  },
  {
   "cell_type": "code",
   "execution_count": 5,
   "id": "9b80a36b-a933-40a9-9837-e4fb5dc70e33",
   "metadata": {},
   "outputs": [],
   "source": [
    "def add(*numbers):\n",
    "    total=0"
   ]
  },
  {
   "cell_type": "code",
   "execution_count": 8,
   "id": "fb163122-e2d4-4912-aeb2-bb6a0fa2062a",
   "metadata": {},
   "outputs": [
    {
     "ename": "SyntaxError",
     "evalue": "invalid syntax (2928615097.py, line 7)",
     "output_type": "error",
     "traceback": [
      "\u001b[0;36m  Cell \u001b[0;32mIn[8], line 7\u001b[0;36m\u001b[0m\n\u001b[0;31m    def total in fruits(**fruits):\u001b[0m\n\u001b[0m              ^\u001b[0m\n\u001b[0;31mSyntaxError\u001b[0m\u001b[0;31m:\u001b[0m invalid syntax\n"
     ]
    }
   ],
   "source": [
    "for i in numbers:\n",
    "    total+=i\n",
    "    return total\n",
    "print(add (2,3))\n",
    "print(add(2,3,5))\n",
    "\n",
    "def total in fruits(**fruits):\n",
    "    total=0\n",
    "    for amount in fruits.values():\n",
    "        total+=amount\n",
    "        return total\n",
    "    print(total.fruits(banana=5,mango=7,apple=8))"
   ]
  },
  {
   "cell_type": "markdown",
   "id": "173bb466-b22a-418d-99c3-04415e04b3ed",
   "metadata": {},
   "source": [
    "Q.3 What is an iterator in python? Name the method used to initialise the iterator object & the method used for iteration. Use these methods to print first five elements of the given list.\n",
    "[2,4,6,8,10,12,14,16,18,20]"
   ]
  },
  {
   "cell_type": "markdown",
   "id": "ace3e31c-449b-4b86-8f6f-c4c0f28b293f",
   "metadata": {},
   "source": [
    "ANSWER==An iterator is an object that contains a countable no. of values. An iterator is an object that can be iterated upon,meaning that you are traverse through all the values.\n",
    "\n",
    "Initialise the iterator object as iter()"
   ]
  },
  {
   "cell_type": "code",
   "execution_count": 35,
   "id": "56f5f003-769d-4822-965a-44c3e712d6c4",
   "metadata": {},
   "outputs": [],
   "source": [
    "import itertools"
   ]
  },
  {
   "cell_type": "code",
   "execution_count": 36,
   "id": "eaa712bc-5888-4b27-b307-0dfb3fc8b39c",
   "metadata": {},
   "outputs": [],
   "source": [
    "n=5"
   ]
  },
  {
   "cell_type": "code",
   "execution_count": 37,
   "id": "651f18c1-ecc3-4ee5-a8ea-aa701ae5923b",
   "metadata": {},
   "outputs": [],
   "source": [
    "list=[2,4,6,8,10,12,14,16,18,20]"
   ]
  },
  {
   "cell_type": "code",
   "execution_count": 38,
   "id": "37185406-db92-4ec4-9042-852008b67a1a",
   "metadata": {},
   "outputs": [],
   "source": [
    " import itertools\n",
    "top5 = itertools.islice(list, n) # grab the first five elements"
   ]
  },
  {
   "cell_type": "markdown",
   "id": "fdb3fc90-84cb-4041-8935-e0ecc33f6121",
   "metadata": {},
   "source": [
    "Q.4 What is generator function in python? Why yield keyword is used? Give an example of generator function."
   ]
  },
  {
   "cell_type": "markdown",
   "id": "b037bc03-035b-4afa-aac2-7827e7e35f0e",
   "metadata": {},
   "source": [
    "A python generator function allows you to declare a function that behaves like an iterator, providing a faster and easier way to creat iterator.\n",
    "eg.  gen_func(x):\n",
    "    for i in range(x):\n",
    "    yield i"
   ]
  },
  {
   "cell_type": "markdown",
   "id": "df24b84c-e86f-4632-8a49-f0af843102cf",
   "metadata": {},
   "source": [
    "Q.5 Creat a generator function for prime no. less than 1000. Use the next() method to print the first 20 prime numbers."
   ]
  },
  {
   "cell_type": "code",
   "execution_count": null,
   "id": "043ffb2c-d62e-4d86-a879-033c6209d6be",
   "metadata": {},
   "outputs": [],
   "source": [
    "primes=[]\n",
    "for possibleprime in range (2,1000):\n",
    "    isprime=True"
   ]
  },
  {
   "cell_type": "code",
   "execution_count": null,
   "id": "0e6d07b9-ab4d-4a59-a9c8-60c6808252f9",
   "metadata": {},
   "outputs": [],
   "source": [
    "for i in range(2,possibleprime):\n",
    "    if possibleprime%i==0:\n",
    "        isprime=False"
   ]
  },
  {
   "cell_type": "code",
   "execution_count": null,
   "id": "3f79efd3-a114-4e01-a028-ed74c64bf9ee",
   "metadata": {},
   "outputs": [],
   "source": [
    "if isprime :\n",
    "    primes.append(possibleprime)"
   ]
  },
  {
   "cell_type": "markdown",
   "id": "c063e201-aa4f-4088-b516-7237ee81e7e7",
   "metadata": {},
   "source": [
    "Q.6 Write a python program to print the first 10 fibonacci no. using while loop."
   ]
  },
  {
   "cell_type": "code",
   "execution_count": null,
   "id": "8acef2dd-d5fb-435c-85b9-ca15a9ddd139",
   "metadata": {},
   "outputs": [],
   "source": [
    "number=int(input(\"Enter the number of element you are looking for\"))\n",
    "a,b=0,1\n",
    "counter=0\n",
    "while counter<number:\n",
    "    print(a)\n",
    "    c=a+b\n",
    "a=b\n",
    "b=c\n",
    "counter=counter+1\n"
   ]
  },
  {
   "cell_type": "markdown",
   "id": "4ffa4764-115e-46db-bf1c-9684825ac74a",
   "metadata": {},
   "source": [
    "Q.7 Wrrite a list comprehension to iterate through the given string:'pwskills'\n",
    "expected output:['p', 'w', 's', 'k', 'i', 'l', 'l', 's']\n"
   ]
  },
  {
   "cell_type": "code",
   "execution_count": 16,
   "id": "80c0656e-4089-45dd-aedb-adfcf163ba57",
   "metadata": {},
   "outputs": [],
   "source": [
    "s='pwskills'"
   ]
  },
  {
   "cell_type": "code",
   "execution_count": 17,
   "id": "ffbb9d8e-75e6-4764-94e3-8c05bb496946",
   "metadata": {},
   "outputs": [
    {
     "data": {
      "text/plain": [
       "'pwskills'"
      ]
     },
     "execution_count": 17,
     "metadata": {},
     "output_type": "execute_result"
    }
   ],
   "source": [
    "s"
   ]
  },
  {
   "cell_type": "code",
   "execution_count": 18,
   "id": "95e9a538-109b-4dd0-a3a3-cf10527d64e2",
   "metadata": {},
   "outputs": [],
   "source": [
    "s1=[]"
   ]
  },
  {
   "cell_type": "code",
   "execution_count": 19,
   "id": "9458f9dc-fe42-4f67-8aa4-4067e4475679",
   "metadata": {},
   "outputs": [
    {
     "name": "stdout",
     "output_type": "stream",
     "text": [
      "['p']\n",
      "['p', 'w']\n",
      "['p', 'w', 's']\n",
      "['p', 'w', 's', 'k']\n",
      "['p', 'w', 's', 'k', 'i']\n",
      "['p', 'w', 's', 'k', 'i', 'l']\n",
      "['p', 'w', 's', 'k', 'i', 'l', 'l']\n",
      "['p', 'w', 's', 'k', 'i', 'l', 'l', 's']\n"
     ]
    }
   ],
   "source": [
    "for i in s:\n",
    "    s1.append(i)\n",
    "    print(s1)"
   ]
  },
  {
   "cell_type": "markdown",
   "id": "2c774083-8adf-4446-ad9d-b65a6fa1aaac",
   "metadata": {},
   "source": [
    "Q.8 Write a python program to check wether a given no. is pallindrome or not using while loop."
   ]
  },
  {
   "cell_type": "code",
   "execution_count": 23,
   "id": "b830307b-1bb4-4af9-920d-24650fe9caa4",
   "metadata": {},
   "outputs": [
    {
     "name": "stdin",
     "output_type": "stream",
     "text": [
      "Enter a number: 23\n"
     ]
    },
    {
     "name": "stdout",
     "output_type": "stream",
     "text": [
      "Not a palindrome!\n"
     ]
    }
   ],
   "source": [
    "num=int(input(\"Enter a number:\"))\n",
    "temp=num\n",
    "rev=0\n",
    "while(num>0):\n",
    "    dig=num%10\n",
    "    rev=rev*10+dig\n",
    "    num=num//10\n",
    "if(temp==rev):\n",
    "    print(\"The number is palindrome!\")\n",
    "else:\n",
    "    print(\"Not a palindrome!\")"
   ]
  },
  {
   "cell_type": "markdown",
   "id": "3e063641-938e-4744-b33b-9fa300d76ee7",
   "metadata": {},
   "source": [
    "Q.9 Write a code to print odd no. from 1 to 100 using list comprehension."
   ]
  },
  {
   "cell_type": "code",
   "execution_count": 28,
   "id": "61c4c54d-9f62-4f5a-99d7-5b4a03eb6838",
   "metadata": {},
   "outputs": [
    {
     "name": "stdout",
     "output_type": "stream",
     "text": [
      "[1, 3, 5, 7, 9, 11, 13, 15, 17, 19, 21, 23, 25, 27, 29, 31, 33, 35, 37, 39, 41, 43, 45, 47, 49, 51, 53, 55, 57, 59, 61, 63, 65, 67, 69, 71, 73, 75, 77, 79, 81, 83, 85, 87, 89, 91, 93, 95, 97, 99]\n"
     ]
    }
   ],
   "source": [
    "def odd_numbers(n):\n",
    "    return [x for x in range(0, n) if x%2 != 0]\n",
    "\n",
    "print(odd_numbers(100))  \n"
   ]
  },
  {
   "cell_type": "code",
   "execution_count": null,
   "id": "350404cb-ad31-41de-8657-2108be1d2210",
   "metadata": {},
   "outputs": [],
   "source": []
  },
  {
   "cell_type": "code",
   "execution_count": null,
   "id": "ce23ea64-e00a-424a-aa6b-2f1c385e179f",
   "metadata": {},
   "outputs": [],
   "source": []
  }
 ],
 "metadata": {
  "kernelspec": {
   "display_name": "Python 3 (ipykernel)",
   "language": "python",
   "name": "python3"
  },
  "language_info": {
   "codemirror_mode": {
    "name": "ipython",
    "version": 3
   },
   "file_extension": ".py",
   "mimetype": "text/x-python",
   "name": "python",
   "nbconvert_exporter": "python",
   "pygments_lexer": "ipython3",
   "version": "3.10.8"
  }
 },
 "nbformat": 4,
 "nbformat_minor": 5
}
